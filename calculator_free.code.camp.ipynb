{
  "nbformat": 4,
  "nbformat_minor": 0,
  "metadata": {
    "colab": {
      "provenance": [],
      "authorship_tag": "ABX9TyMo4x8L6Bt36+fix9HAqSHC",
      "include_colab_link": true
    },
    "kernelspec": {
      "name": "python3",
      "display_name": "Python 3"
    },
    "language_info": {
      "name": "python"
    }
  },
  "cells": [
    {
      "cell_type": "markdown",
      "metadata": {
        "id": "view-in-github",
        "colab_type": "text"
      },
      "source": [
        "<a href=\"https://colab.research.google.com/github/amirmsk/self_compation_demographicas/blob/main/calculator_free.code.camp.ipynb\" target=\"_parent\"><img src=\"https://colab.research.google.com/assets/colab-badge.svg\" alt=\"Open In Colab\"/></a>"
      ]
    },
    {
      "cell_type": "code",
      "source": [
        "!pip install numpy\n",
        "import numpy as np\n",
        "\n",
        "def calculate(matrix):\n",
        "\n",
        "  if len(matrix) != 9:\n",
        "    raise ValueError(\"List must contain nine numbers.\")\n",
        "\n",
        "  # Convert the list to a 3 x 3 NumPy array.\n",
        "  matrix = np.array(matrix).reshape((3, 3))\n",
        "\n",
        "  # Calculate the mean, variance, standard deviation, max, min, and sum along both axes and for the flattened matrix.\n",
        "  axis1_mean = np.mean(matrix, axis=0).round(2).tolist()\n",
        "  axis2_mean = np.mean(matrix, axis=1).round(2).tolist()\n",
        "  flattened_mean = np.mean(matrix.flatten()).round(2).tolist()\n",
        "\n",
        "  axis1_variance = np.var(matrix, axis=0).round(2).tolist()\n",
        "  axis2_variance = np.var(matrix, axis=1).round(2).tolist()\n",
        "  flattened_variance = np.var(matrix.flatten()).round(2).tolist()\n",
        "\n",
        "  axis1_std = np.std(matrix, axis=0).round(2).tolist()\n",
        "  axis2_std = np.std(matrix, axis=1).round(2).tolist()\n",
        "  flattened_std = np.std(matrix.flatten()).round(2).tolist()\n",
        "\n",
        "  axis1_max = np.max(matrix, axis=0).round(2).tolist()\n",
        "  axis2_max = np.max(matrix, axis=1).round(2).tolist()\n",
        "  flattened_max = np.max(matrix.flatten()).round(2).tolist()\n",
        "\n",
        "  axis1_min = np.min(matrix, axis=0).round(2).tolist()\n",
        "  axis2_min = np.min(matrix, axis=1).round(2).tolist()\n",
        "  flattened_min = np.min(matrix.flatten()).round(2).tolist()\n",
        "\n",
        "  axis1_sum = np.sum(matrix, axis=0).round(2).tolist()\n",
        "  axis2_sum = np.sum(matrix, axis=1).round(2).tolist()\n",
        "  flattened_sum = np.sum(matrix.flatten()).round(2).tolist()\n",
        "\n",
        "\n",
        "  return {\n",
        "    \"mean\": [axis1_mean, axis2_mean, flattened_mean],\n",
        "    \"variance\": [axis1_variance, axis2_variance, flattened_variance],\n",
        "    \"standard deviation\": [axis1_std, axis2_std, flattened_std],\n",
        "    \"max\": [axis1_max, axis2_max, flattened_max],\n",
        "    \"min\": [axis1_min, axis2_min, flattened_min],\n",
        "    \"sum\": [axis1_sum, axis2_sum, flattened_sum],\n",
        "  }\n"
      ],
      "metadata": {
        "colab": {
          "base_uri": "https://localhost:8080/"
        },
        "id": "JY9rv5pXuydV",
        "outputId": "c7ebab5d-718a-43cd-9be4-84fa0fa163b4"
      },
      "execution_count": null,
      "outputs": [
        {
          "output_type": "stream",
          "name": "stdout",
          "text": [
            "Requirement already satisfied: numpy in /usr/local/lib/python3.10/dist-packages (1.23.5)\n"
          ]
        }
      ]
    },
    {
      "cell_type": "code",
      "source": [
        "matrix = [1,2,4,56,5,6,7,8,5]\n"
      ],
      "metadata": {
        "id": "78Kb-uopyWWF"
      },
      "execution_count": null,
      "outputs": []
    },
    {
      "cell_type": "code",
      "source": [
        "calculate(matrix)\n"
      ],
      "metadata": {
        "colab": {
          "base_uri": "https://localhost:8080/"
        },
        "id": "OIJJE2XEyfNE",
        "outputId": "4e1ed9f9-c32e-4142-b455-e88d241237f0"
      },
      "execution_count": null,
      "outputs": [
        {
          "output_type": "execute_result",
          "data": {
            "text/plain": [
              "{'mean': [[21.33, 5.0, 5.0], [2.33, 22.33, 6.67], 10.44],\n",
              " 'variance': [[606.89, 6.0, 0.67], [1.56, 566.89, 1.56], 263.8],\n",
              " 'standard deviation': [[24.64, 2.45, 0.82], [1.25, 23.81, 1.25], 16.24],\n",
              " 'max': [[56, 8, 6], [4, 56, 8], 56],\n",
              " 'min': [[1, 2, 4], [1, 5, 5], 1],\n",
              " 'sum': [[64, 15, 15], [7, 67, 20], 94]}"
            ]
          },
          "metadata": {},
          "execution_count": 52
        }
      ]
    },
    {
      "cell_type": "code",
      "source": [],
      "metadata": {
        "id": "IKqCZXHr5Q-4"
      },
      "execution_count": null,
      "outputs": []
    }
  ]
}